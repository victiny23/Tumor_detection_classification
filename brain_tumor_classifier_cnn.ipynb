{
 "cells": [
  {
   "cell_type": "code",
   "execution_count": 1,
   "id": "progressive-wrestling",
   "metadata": {},
   "outputs": [],
   "source": [
    "import pandas as pd\n",
    "import numpy as np\n",
    "import matplotlib.pyplot as plt\n",
    "import seaborn as sns"
   ]
  },
  {
   "cell_type": "code",
   "execution_count": 40,
   "id": "victorian-reserve",
   "metadata": {},
   "outputs": [],
   "source": [
    "from tensorflow.keras.models import Sequential\n",
    "from tensorflow.keras.layers import Conv2D, MaxPooling2D, AveragePooling2D, Dense, Dropout, Flatten\n",
    "from tensorflow.keras.callbacks import EarlyStopping, ModelCheckpoint"
   ]
  },
  {
   "cell_type": "code",
   "execution_count": 15,
   "id": "alternative-income",
   "metadata": {},
   "outputs": [],
   "source": [
    "# data of brain MRI and corresponding mask\n",
    "df_brain = pd.read_csv('data_mask.csv')"
   ]
  },
  {
   "cell_type": "code",
   "execution_count": 21,
   "id": "proper-gnome",
   "metadata": {},
   "outputs": [],
   "source": [
    "# convert data in mask column to string format, to use categorical mode in flow_from_dataframe\n",
    "df_brain['mask'] = df_brain['mask'].astype(str)"
   ]
  },
  {
   "cell_type": "code",
   "execution_count": 22,
   "id": "dynamic-irish",
   "metadata": {},
   "outputs": [],
   "source": [
    "# split the data into train and test\n",
    "from sklearn.model_selection import train_test_split\n",
    "train, test = train_test_split(df_brain, test_size=0.15, random_state=12345)"
   ]
  },
  {
   "cell_type": "code",
   "execution_count": 23,
   "id": "surprised-miniature",
   "metadata": {},
   "outputs": [],
   "source": [
    "# create an image generator\n",
    "from keras_preprocessing.image import ImageDataGenerator\n",
    "\n",
    "# create a data generator which scales the data from 0 to 1 and make validation split\n",
    "datagen = ImageDataGenerator(rescale=1./255., \n",
    "                             shear_range=0.2,\n",
    "                             zoom_range=0.2,\n",
    "                             horizontal_flip=True,\n",
    "                             validation_split=0.15)"
   ]
  },
  {
   "cell_type": "code",
   "execution_count": 34,
   "id": "curious-climb",
   "metadata": {},
   "outputs": [
    {
     "name": "stdout",
     "output_type": "stream",
     "text": [
      "Found 2839 validated image filenames belonging to 2 classes.\n",
      "Found 500 validated image filenames belonging to 2 classes.\n",
      "Found 590 validated image filenames belonging to 2 classes.\n"
     ]
    }
   ],
   "source": [
    "train_generator = datagen.flow_from_dataframe(\n",
    "                    dataframe=train,\n",
    "                    directory='C:/Users/Victiny/Python_Project/Data_brain_tumor/',\n",
    "                    x_col='image_path',\n",
    "                    y_col='mask',\n",
    "                    subset='training',\n",
    "                    batch_size=16,\n",
    "                    shuffle=True, # shuffle the data so the order is not used as information for training\n",
    "                    class_mode='categorical',\n",
    "                    target_size=(256,256))\n",
    "\n",
    "valid_generator = datagen.flow_from_dataframe(\n",
    "                    dataframe=train,\n",
    "                    directory='C:/Users/Victiny/Python_Project/Data_brain_tumor/',\n",
    "                    x_col='image_path',\n",
    "                    y_col='mask',\n",
    "                    subset='validation',\n",
    "                    batch_size=16,\n",
    "                    shuffle=True,\n",
    "                    class_mode='categorical',\n",
    "                    target_size=(256,256))\n",
    "\n",
    "test_datagen = ImageDataGenerator(rescale=1./255.)\n",
    "\n",
    "test_generator = test_datagen.flow_from_dataframe(\n",
    "                    dataframe=test,\n",
    "                    directory='C:/Users/Victiny/Python_Project/Data_brain_tumor/',\n",
    "                    x_col='image_path',\n",
    "                    y_col='mask',\n",
    "                    batch_size=16,\n",
    "                    shuffle=False, # no need to shuffle the test data as we don't use it for training\n",
    "                    class_mode='categorical',\n",
    "                    target_size=(256,256))"
   ]
  },
  {
   "cell_type": "code",
   "execution_count": 43,
   "id": "filled-shoulder",
   "metadata": {},
   "outputs": [
    {
     "name": "stdout",
     "output_type": "stream",
     "text": [
      "Model: \"sequential_9\"\n",
      "_________________________________________________________________\n",
      "Layer (type)                 Output Shape              Param #   \n",
      "=================================================================\n",
      "conv2d_3 (Conv2D)            (None, 85, 85, 32)        896       \n",
      "_________________________________________________________________\n",
      "max_pooling2d_3 (MaxPooling2 (None, 42, 42, 32)        0         \n",
      "_________________________________________________________________\n",
      "dropout_14 (Dropout)         (None, 42, 42, 32)        0         \n",
      "_________________________________________________________________\n",
      "flatten_2 (Flatten)          (None, 56448)             0         \n",
      "_________________________________________________________________\n",
      "dense_19 (Dense)             (None, 256)               14450944  \n",
      "_________________________________________________________________\n",
      "dropout_15 (Dropout)         (None, 256)               0         \n",
      "_________________________________________________________________\n",
      "dense_20 (Dense)             (None, 2)                 514       \n",
      "=================================================================\n",
      "Total params: 14,452,354\n",
      "Trainable params: 14,452,354\n",
      "Non-trainable params: 0\n",
      "_________________________________________________________________\n"
     ]
    }
   ],
   "source": [
    "# define model\n",
    "model = Sequential()\n",
    "# Convolutiom\n",
    "model.add(Conv2D(32, 3, 3, input_shape=(256, 256, 3), activation='relu'))\n",
    "\n",
    "# Pooling\n",
    "model.add(MaxPooling2D(pool_size=(2, 2)))\n",
    "model.add(Dropout(0.3))\n",
    "\n",
    "# Flattening\n",
    "model.add(Flatten())\n",
    "\n",
    "model.add(Dense(256, activation='relu'))\n",
    "model.add(Dropout(0.3))\n",
    "\n",
    "model.add(Dense(2, activation='softmax'))\n",
    "\n",
    "model.compile(optimizer='adam',loss='categorical_crossentropy',metrics=['accuracy'])\n",
    "\n",
    "model.summary()"
   ]
  },
  {
   "cell_type": "code",
   "execution_count": 48,
   "id": "nonprofit-surface",
   "metadata": {},
   "outputs": [],
   "source": [
    "# Train the model\n",
    "\n",
    "#define callbacks\n",
    "earlystopping = EarlyStopping(monitor = 'val_loss', mode = 'min', patience=10, restore_best_weights=True)\n",
    "\n",
    "# save the best model with least validation loss\n",
    "checkpointer = ModelCheckpoint(filepath='classifier_resnet_weights_cnn.hdf5', \n",
    "                               verbose=1, save_best_only=True)"
   ]
  },
  {
   "cell_type": "code",
   "execution_count": 44,
   "id": "charming-hampton",
   "metadata": {},
   "outputs": [
    {
     "name": "stdout",
     "output_type": "stream",
     "text": [
      "Train for 177 steps, validate for 31 steps\n",
      "Epoch 1/100\n",
      "176/177 [============================>.] - ETA: 0s - loss: 0.5288 - accuracy: 0.7421\n",
      "Epoch 00001: val_loss improved from inf to 0.49186, saving model to classifier_resnet_weights_nn.hdf5\n",
      "177/177 [==============================] - 60s 337ms/step - loss: 0.5286 - accuracy: 0.7421 - val_loss: 0.4919 - val_accuracy: 0.7681\n",
      "Epoch 2/100\n",
      "176/177 [============================>.] - ETA: 0s - loss: 0.4355 - accuracy: 0.7834\n",
      "Epoch 00002: val_loss improved from 0.49186 to 0.37742, saving model to classifier_resnet_weights_nn.hdf5\n",
      "177/177 [==============================] - 59s 331ms/step - loss: 0.4354 - accuracy: 0.7832 - val_loss: 0.3774 - val_accuracy: 0.7984\n",
      "Epoch 3/100\n",
      "176/177 [============================>.] - ETA: 0s - loss: 0.3901 - accuracy: 0.8044\n",
      "Epoch 00003: val_loss improved from 0.37742 to 0.36008, saving model to classifier_resnet_weights_nn.hdf5\n",
      "177/177 [==============================] - 59s 332ms/step - loss: 0.3903 - accuracy: 0.8034 - val_loss: 0.3601 - val_accuracy: 0.8145\n",
      "Epoch 4/100\n",
      "176/177 [============================>.] - ETA: 0s - loss: 0.3664 - accuracy: 0.8180\n",
      "Epoch 00004: val_loss did not improve from 0.36008\n",
      "177/177 [==============================] - 58s 325ms/step - loss: 0.3668 - accuracy: 0.8176 - val_loss: 0.3901 - val_accuracy: 0.7802\n",
      "Epoch 5/100\n",
      "176/177 [============================>.] - ETA: 0s - loss: 0.3465 - accuracy: 0.8408\n",
      "Epoch 00005: val_loss improved from 0.36008 to 0.33337, saving model to classifier_resnet_weights_nn.hdf5\n",
      "177/177 [==============================] - 59s 336ms/step - loss: 0.3467 - accuracy: 0.8406 - val_loss: 0.3334 - val_accuracy: 0.8367\n",
      "Epoch 6/100\n",
      "176/177 [============================>.] - ETA: 0s - loss: 0.3327 - accuracy: 0.8304 E\n",
      "Epoch 00006: val_loss improved from 0.33337 to 0.28662, saving model to classifier_resnet_weights_nn.hdf5\n",
      "177/177 [==============================] - 63s 357ms/step - loss: 0.3318 - accuracy: 0.8307 - val_loss: 0.2866 - val_accuracy: 0.8810\n",
      "Epoch 7/100\n",
      "176/177 [============================>.] - ETA: 0s - loss: 0.3111 - accuracy: 0.8568\n",
      "Epoch 00007: val_loss did not improve from 0.28662\n",
      "177/177 [==============================] - 57s 325ms/step - loss: 0.3103 - accuracy: 0.8576 - val_loss: 0.3180 - val_accuracy: 0.8569\n",
      "Epoch 8/100\n",
      "176/177 [============================>.] - ETA: 0s - loss: 0.3066 - accuracy: 0.8600\n",
      "Epoch 00008: val_loss did not improve from 0.28662\n",
      "177/177 [==============================] - 58s 325ms/step - loss: 0.3075 - accuracy: 0.8587 - val_loss: 0.3350 - val_accuracy: 0.8327\n",
      "Epoch 9/100\n",
      "176/177 [============================>.] - ETA: 0s - loss: 0.2802 - accuracy: 0.8725\n",
      "Epoch 00009: val_loss did not improve from 0.28662\n",
      "177/177 [==============================] - 58s 326ms/step - loss: 0.2809 - accuracy: 0.8718 - val_loss: 0.3132 - val_accuracy: 0.8569\n",
      "Epoch 10/100\n",
      "176/177 [============================>.] - ETA: 0s - loss: 0.2740 - accuracy: 0.8717\n",
      "Epoch 00010: val_loss did not improve from 0.28662\n",
      "177/177 [==============================] - 58s 326ms/step - loss: 0.2731 - accuracy: 0.8721 - val_loss: 0.2962 - val_accuracy: 0.8770\n",
      "Epoch 11/100\n",
      "176/177 [============================>.] - ETA: 0s - loss: 0.2762 - accuracy: 0.8789\n",
      "Epoch 00011: val_loss did not improve from 0.28662\n",
      "177/177 [==============================] - 58s 328ms/step - loss: 0.2758 - accuracy: 0.8789 - val_loss: 0.2962 - val_accuracy: 0.8790\n",
      "Epoch 12/100\n",
      "176/177 [============================>.] - ETA: 0s - loss: 0.2637 - accuracy: 0.8807\n",
      "Epoch 00012: val_loss improved from 0.28662 to 0.26393, saving model to classifier_resnet_weights_nn.hdf5\n",
      "177/177 [==============================] - 59s 332ms/step - loss: 0.2642 - accuracy: 0.8799 - val_loss: 0.2639 - val_accuracy: 0.9032\n",
      "Epoch 13/100\n",
      "176/177 [============================>.] - ETA: 0s - loss: 0.2520 - accuracy: 0.8928\n",
      "Epoch 00013: val_loss did not improve from 0.26393\n",
      "177/177 [==============================] - 58s 328ms/step - loss: 0.2513 - accuracy: 0.8930 - val_loss: 0.3026 - val_accuracy: 0.8891\n",
      "Epoch 14/100\n",
      "176/177 [============================>.] - ETA: 0s - loss: 0.2455 - accuracy: 0.8885\n",
      "Epoch 00014: val_loss did not improve from 0.26393\n",
      "177/177 [==============================] - 58s 327ms/step - loss: 0.2449 - accuracy: 0.8884 - val_loss: 0.3133 - val_accuracy: 0.8851\n",
      "Epoch 15/100\n",
      "176/177 [============================>.] - ETA: 0s - loss: 0.2297 - accuracy: 0.9038\n",
      "Epoch 00015: val_loss did not improve from 0.26393\n",
      "177/177 [==============================] - 58s 327ms/step - loss: 0.2331 - accuracy: 0.9026 - val_loss: 0.2793 - val_accuracy: 0.8952\n",
      "Epoch 16/100\n",
      "176/177 [============================>.] - ETA: 0s - loss: 0.2294 - accuracy: 0.9027\n",
      "Epoch 00016: val_loss did not improve from 0.26393\n",
      "177/177 [==============================] - 58s 326ms/step - loss: 0.2299 - accuracy: 0.9022 - val_loss: 0.2706 - val_accuracy: 0.8931\n",
      "Epoch 17/100\n",
      "176/177 [============================>.] - ETA: 0s - loss: 0.2260 - accuracy: 0.9081\n",
      "Epoch 00017: val_loss did not improve from 0.26393\n",
      "177/177 [==============================] - 58s 327ms/step - loss: 0.2267 - accuracy: 0.9072 - val_loss: 0.2651 - val_accuracy: 0.8952\n",
      "Epoch 18/100\n",
      "176/177 [============================>.] - ETA: 0s - loss: 0.2171 - accuracy: 0.9077\n",
      "Epoch 00018: val_loss did not improve from 0.26393\n",
      "177/177 [==============================] - 57s 323ms/step - loss: 0.2168 - accuracy: 0.9079 - val_loss: 0.3006 - val_accuracy: 0.8891\n",
      "Epoch 19/100\n",
      "176/177 [============================>.] - ETA: 0s - loss: 0.2143 - accuracy: 0.9067\n",
      "Epoch 00019: val_loss improved from 0.26393 to 0.23684, saving model to classifier_resnet_weights_nn.hdf5\n",
      "177/177 [==============================] - 59s 332ms/step - loss: 0.2141 - accuracy: 0.9068 - val_loss: 0.2368 - val_accuracy: 0.9032\n",
      "Epoch 20/100\n",
      "176/177 [============================>.] - ETA: 0s - loss: 0.2023 - accuracy: 0.9127\n",
      "Epoch 00020: val_loss improved from 0.23684 to 0.23523, saving model to classifier_resnet_weights_nn.hdf5\n",
      "177/177 [==============================] - 59s 331ms/step - loss: 0.2023 - accuracy: 0.9132 - val_loss: 0.2352 - val_accuracy: 0.9194\n",
      "Epoch 21/100\n",
      "176/177 [============================>.] - ETA: 0s - loss: 0.1917 - accuracy: 0.9230\n",
      "Epoch 00021: val_loss did not improve from 0.23523\n",
      "177/177 [==============================] - 58s 329ms/step - loss: 0.1919 - accuracy: 0.9228 - val_loss: 0.2952 - val_accuracy: 0.8952\n",
      "Epoch 22/100\n",
      "176/177 [============================>.] - ETA: 0s - loss: 0.1909 - accuracy: 0.9202\n",
      "Epoch 00022: val_loss did not improve from 0.23523\n",
      "177/177 [==============================] - 58s 327ms/step - loss: 0.1901 - accuracy: 0.9207 - val_loss: 0.2854 - val_accuracy: 0.8911\n",
      "Epoch 23/100\n",
      "176/177 [============================>.] - ETA: 0s - loss: 0.1909 - accuracy: 0.9138\n",
      "Epoch 00023: val_loss did not improve from 0.23523\n",
      "177/177 [==============================] - 58s 328ms/step - loss: 0.1902 - accuracy: 0.9143 - val_loss: 0.2783 - val_accuracy: 0.9073\n",
      "Epoch 24/100\n",
      "176/177 [============================>.] - ETA: 0s - loss: 0.1840 - accuracy: 0.9284\n",
      "Epoch 00024: val_loss did not improve from 0.23523\n",
      "177/177 [==============================] - 58s 325ms/step - loss: 0.1835 - accuracy: 0.9288 - val_loss: 0.2765 - val_accuracy: 0.8972\n",
      "Epoch 25/100\n",
      "176/177 [============================>.] - ETA: 0s - loss: 0.1793 - accuracy: 0.9241 ETA: 3s - loss: 0\n",
      "Epoch 00025: val_loss did not improve from 0.23523\n",
      "177/177 [==============================] - 58s 327ms/step - loss: 0.1807 - accuracy: 0.9238 - val_loss: 0.2719 - val_accuracy: 0.9073\n",
      "Epoch 26/100\n",
      "176/177 [============================>.] - ETA: 0s - loss: 0.1740 - accuracy: 0.9252\n",
      "Epoch 00026: val_loss did not improve from 0.23523\n",
      "177/177 [==============================] - 58s 329ms/step - loss: 0.1734 - accuracy: 0.9256 - val_loss: 0.2699 - val_accuracy: 0.9113\n",
      "Epoch 27/100\n",
      "176/177 [============================>.] - ETA: 0s - loss: 0.1735 - accuracy: 0.9252\n",
      "Epoch 00027: val_loss did not improve from 0.23523\n",
      "177/177 [==============================] - 58s 326ms/step - loss: 0.1749 - accuracy: 0.9245 - val_loss: 0.2409 - val_accuracy: 0.9234\n",
      "Epoch 28/100\n",
      "176/177 [============================>.] - ETA: 0s - loss: 0.1605 - accuracy: 0.9384\n",
      "Epoch 00028: val_loss did not improve from 0.23523\n",
      "177/177 [==============================] - 58s 326ms/step - loss: 0.1611 - accuracy: 0.9377 - val_loss: 0.2827 - val_accuracy: 0.8911\n",
      "Epoch 29/100\n",
      "176/177 [============================>.] - ETA: 0s - loss: 0.1549 - accuracy: 0.9412\n",
      "Epoch 00029: val_loss did not improve from 0.23523\n",
      "177/177 [==============================] - 58s 326ms/step - loss: 0.1541 - accuracy: 0.9416 - val_loss: 0.2858 - val_accuracy: 0.9113\n",
      "Epoch 30/100\n",
      "176/177 [============================>.] - ETA: 0s - loss: 0.1523 - accuracy: 0.9398\n",
      "Epoch 00030: val_loss improved from 0.23523 to 0.23197, saving model to classifier_resnet_weights_nn.hdf5\n",
      "177/177 [==============================] - 59s 332ms/step - loss: 0.1531 - accuracy: 0.9391 - val_loss: 0.2320 - val_accuracy: 0.9113\n",
      "Epoch 31/100\n",
      "176/177 [============================>.] - ETA: 0s - loss: 0.1703 - accuracy: 0.9305\n",
      "Epoch 00031: val_loss did not improve from 0.23197\n",
      "177/177 [==============================] - 58s 328ms/step - loss: 0.1704 - accuracy: 0.9302 - val_loss: 0.2766 - val_accuracy: 0.9254\n",
      "Epoch 32/100\n",
      "176/177 [============================>.] - ETA: 0s - loss: 0.1569 - accuracy: 0.9384\n",
      "Epoch 00032: val_loss did not improve from 0.23197\n",
      "177/177 [==============================] - 58s 327ms/step - loss: 0.1569 - accuracy: 0.9384 - val_loss: 0.2637 - val_accuracy: 0.8992\n",
      "Epoch 33/100\n",
      "176/177 [============================>.] - ETA: 0s - loss: 0.1516 - accuracy: 0.9377\n",
      "Epoch 00033: val_loss did not improve from 0.23197\n",
      "177/177 [==============================] - 58s 326ms/step - loss: 0.1537 - accuracy: 0.9366 - val_loss: 0.2460 - val_accuracy: 0.9093\n",
      "Epoch 34/100\n",
      "176/177 [============================>.] - ETA: 0s - loss: 0.1487 - accuracy: 0.9359\n",
      "Epoch 00034: val_loss did not improve from 0.23197\n",
      "177/177 [==============================] - 58s 327ms/step - loss: 0.1481 - accuracy: 0.9362 - val_loss: 0.2905 - val_accuracy: 0.9274\n",
      "Epoch 35/100\n",
      "176/177 [============================>.] - ETA: 0s - loss: 0.1425 - accuracy: 0.9458\n",
      "Epoch 00035: val_loss did not improve from 0.23197\n",
      "177/177 [==============================] - 58s 325ms/step - loss: 0.1427 - accuracy: 0.9458 - val_loss: 0.2608 - val_accuracy: 0.9153\n",
      "Epoch 36/100\n",
      "176/177 [============================>.] - ETA: 0s - loss: 0.1366 - accuracy: 0.9480 ETA: 5s -\n",
      "Epoch 00036: val_loss did not improve from 0.23197\n",
      "177/177 [==============================] - 58s 329ms/step - loss: 0.1362 - accuracy: 0.9479 - val_loss: 0.2796 - val_accuracy: 0.9153\n",
      "Epoch 37/100\n",
      "176/177 [============================>.] - ETA: 0s - loss: 0.1460 - accuracy: 0.9462\n",
      "Epoch 00037: val_loss did not improve from 0.23197\n",
      "177/177 [==============================] - 58s 329ms/step - loss: 0.1463 - accuracy: 0.9458 - val_loss: 0.2773 - val_accuracy: 0.9254\n",
      "Epoch 38/100\n",
      "176/177 [============================>.] - ETA: 0s - loss: 0.1354 - accuracy: 0.9501\n",
      "Epoch 00038: val_loss did not improve from 0.23197\n",
      "177/177 [==============================] - 58s 328ms/step - loss: 0.1362 - accuracy: 0.9497 - val_loss: 0.2772 - val_accuracy: 0.9073\n",
      "Epoch 39/100\n",
      "176/177 [============================>.] - ETA: 0s - loss: 0.1289 - accuracy: 0.9466\n",
      "Epoch 00039: val_loss did not improve from 0.23197\n",
      "177/177 [==============================] - 58s 328ms/step - loss: 0.1286 - accuracy: 0.9469 - val_loss: 0.3225 - val_accuracy: 0.9032\n",
      "Epoch 40/100\n",
      "176/177 [============================>.] - ETA: 0s - loss: 0.1290 - accuracy: 0.9487\n",
      "Epoch 00040: val_loss did not improve from 0.23197\n",
      "177/177 [==============================] - 58s 327ms/step - loss: 0.1291 - accuracy: 0.9486 - val_loss: 0.2426 - val_accuracy: 0.9294\n"
     ]
    }
   ],
   "source": [
    "history = model.fit(train_generator, \n",
    "                    steps_per_epoch=train_generator.n//16,\n",
    "                    epochs=100,\n",
    "                    validation_data=valid_generator,\n",
    "                    validation_steps=valid_generator.n//16,\n",
    "                    callbacks=[checkpointer, earlystopping])"
   ]
  },
  {
   "cell_type": "code",
   "execution_count": 49,
   "id": "applicable-bradford",
   "metadata": {},
   "outputs": [],
   "source": [
    "model.save('classifier_resnet_weights_cnn.hdf5')"
   ]
  },
  {
   "cell_type": "code",
   "execution_count": 50,
   "id": "imperial-error",
   "metadata": {},
   "outputs": [
    {
     "name": "stdout",
     "output_type": "stream",
     "text": [
      "37/37 [==============================] - 3s 74ms/step\n"
     ]
    },
    {
     "data": {
      "text/plain": [
       "array([[1.0000000e+00, 2.7831680e-08],\n",
       "       [3.7984666e-03, 9.9620157e-01],\n",
       "       [3.9889098e-08, 1.0000000e+00],\n",
       "       ...,\n",
       "       [1.0000000e+00, 6.7971605e-13],\n",
       "       [9.9921370e-01, 7.8628946e-04],\n",
       "       [9.8339578e-06, 9.9999022e-01]], dtype=float32)"
      ]
     },
     "execution_count": 50,
     "metadata": {},
     "output_type": "execute_result"
    }
   ],
   "source": [
    "# make prediction\n",
    "test_predict = model.predict(test_generator, #steps=test_generator.n//16, \n",
    "                             verbose=1)\n",
    "test_predict"
   ]
  },
  {
   "cell_type": "code",
   "execution_count": 51,
   "id": "weird-harvey",
   "metadata": {},
   "outputs": [
    {
     "data": {
      "text/plain": [
       "array(['0', '1', '1', '1', '0', '0', '1', '0', '1', '0'], dtype='<U1')"
      ]
     },
     "execution_count": 51,
     "metadata": {},
     "output_type": "execute_result"
    }
   ],
   "source": [
    "\"\"\"Model evaluation\"\"\"\n",
    "# obtain the predicted class from model prediction (probability)\n",
    "y_predict = []\n",
    "for i in test_predict:\n",
    "    y_predict.append(str(np.argmax(i)))\n",
    "y_predict = np.asarray(y_predict)\n",
    "y_predict[:10]"
   ]
  },
  {
   "cell_type": "code",
   "execution_count": 52,
   "id": "three-forge",
   "metadata": {},
   "outputs": [
    {
     "data": {
      "text/plain": [
       "array(['0', '1', '1', '1', '0', '0', '1', '0', '1', '0'], dtype=object)"
      ]
     },
     "execution_count": 52,
     "metadata": {},
     "output_type": "execute_result"
    }
   ],
   "source": [
    "y_test = np.asarray(test['mask'])[:len(test_predict)]\n",
    "y_test[:10]"
   ]
  },
  {
   "cell_type": "code",
   "execution_count": 53,
   "id": "grand-minority",
   "metadata": {},
   "outputs": [
    {
     "name": "stdout",
     "output_type": "stream",
     "text": [
      "0.9169\n",
      "              precision    recall  f1-score   support\n",
      "\n",
      "           0       0.92      0.96      0.94       381\n",
      "           1       0.92      0.84      0.88       209\n",
      "\n",
      "    accuracy                           0.92       590\n",
      "   macro avg       0.92      0.90      0.91       590\n",
      "weighted avg       0.92      0.92      0.92       590\n",
      "\n"
     ]
    },
    {
     "data": {
      "image/png": "[encoded data removed]",
      "text/plain": [
       "<Figure size 432x288 with 2 Axes>"
      ]
     },
     "metadata": {
      "needs_background": "light"
     },
     "output_type": "display_data"
    }
   ],
   "source": [
    "from sklearn.metrics import accuracy_score, confusion_matrix, classification_report\n",
    "\n",
    "accuracy = accuracy_score(y_test, y_predict)\n",
    "print('%.4f'%accuracy)\n",
    "\n",
    "cm = confusion_matrix(y_test, y_predict)\n",
    "sns.heatmap(cm, annot=True)\n",
    "\n",
    "print(classification_report(y_test, y_predict))"
   ]
  }
 ],
 "metadata": {
  "kernelspec": {
   "display_name": "Python 3",
   "language": "python",
   "name": "python3"
  },
  "language_info": {
   "codemirror_mode": {
    "name": "ipython",
    "version": 3
   },
   "file_extension": ".py",
   "mimetype": "text/x-python",
   "name": "python",
   "nbconvert_exporter": "python",
   "pygments_lexer": "ipython3",
   "version": "3.7.9"
  }
 },
 "nbformat": 4,
 "nbformat_minor": 5
}
